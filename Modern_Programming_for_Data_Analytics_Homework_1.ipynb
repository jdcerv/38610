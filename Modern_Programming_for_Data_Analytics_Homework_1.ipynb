{
  "nbformat": 4,
  "nbformat_minor": 0,
  "metadata": {
    "colab": {
      "provenance": [],
      "collapsed_sections": [],
      "include_colab_link": true
    },
    "kernelspec": {
      "name": "python3",
      "display_name": "Python 3"
    },
    "language_info": {
      "name": "python"
    }
  },
  "cells": [
    {
      "cell_type": "markdown",
      "metadata": {
        "id": "view-in-github",
        "colab_type": "text"
      },
      "source": [
        "<a href=\"https://colab.research.google.com/github/jdcerv/38610/blob/main/Modern_Programming_for_Data_Analytics_Homework_1.ipynb\" target=\"_parent\"><img src=\"https://colab.research.google.com/assets/colab-badge.svg\" alt=\"Open In Colab\"/></a>"
      ]
    },
    {
      "cell_type": "markdown",
      "source": [
        "# Modern Programming for Data Analytics\n",
        "Name: Jakob Cervenak\n",
        "\n",
        "Andrew ID: jcervena"
      ],
      "metadata": {
        "id": "q32gveKttS1e"
      }
    },
    {
      "cell_type": "markdown",
      "source": [
        "# Exercise - Using `pip` to install packages\n",
        "Install the package [cowsay](https://pypi.org/project/cowsay/) using `pip`.\n",
        "\n",
        "Read the package documentation and write the commands to print the following diagram\n",
        "\n",
        "```\n",
        "  _____________\n",
        "| Ghostbusters! |\n",
        "  =============\n",
        "                     \\\n",
        "                      \\\n",
        "                       \\\n",
        "                        \\\n",
        "                                    __---__\n",
        "                                 _-       /--______\n",
        "                            __--( /     \\ )XXXXXXXXXXX\\v.\n",
        "                          .-XXX(   O   O  )XXXXXXXXXXXXXXX-\n",
        "                         /XXX(       U     )        XXXXXXX\\\n",
        "                       /XXXXX(              )--_  XXXXXXXXXXX\\\n",
        "                      /XXXXX/ (      O     )   XXXXXX   \\XXXXX\\\n",
        "                      XXXXX/   /            XXXXXX   \\__ \\XXXXX\n",
        "                      XXXXXX__/          XXXXXX         \\__---->\n",
        "              ---___  XXX__/          XXXXXX      \\__         /\n",
        "                \\-  --__/   ___/\\  XXXXXX            /  ___--/=\n",
        "                 \\-\\    ___/    XXXXXX              '--- XXXXXX\n",
        "                    \\-\\/XXX\\ XXXXXX                      /XXXXX\n",
        "                      \\XXXXXXXXX   \\                    /XXXXX/\n",
        "                       \\XXXXXX      >                 _/XXXXX/\n",
        "                         \\XXXXX--__/              __-- XXXX/\n",
        "                          -XXXXXXXX---------------  XXXXXX-\n",
        "                             \\XXXXXXXXXXXXXXXXXXXXXXXXXX/\n",
        "                               \"\"VXXXXXXXXXXXXXXXXXXV\"\"\n",
        "```"
      ],
      "metadata": {
        "id": "rZpjQ6Yged6i"
      }
    },
    {
      "cell_type": "code",
      "execution_count": 2,
      "metadata": {
        "id": "TvbZcWBAedAf",
        "colab": {
          "base_uri": "https://localhost:8080/"
        },
        "outputId": "63e08b27-7ecf-4b34-b320-3a4df8de3bcb"
      },
      "outputs": [
        {
          "output_type": "stream",
          "name": "stdout",
          "text": [
            "Looking in indexes: https://pypi.org/simple, https://us-python.pkg.dev/colab-wheels/public/simple/\n",
            "Collecting cowsay\n",
            "  Downloading cowsay-5.0.tar.gz (25 kB)\n",
            "Building wheels for collected packages: cowsay\n",
            "  Building wheel for cowsay (setup.py) ... \u001b[?25l\u001b[?25hdone\n",
            "  Created wheel for cowsay: filename=cowsay-5.0-py2.py3-none-any.whl size=25725 sha256=b1f8e51c07d3c8117aa95513dd3639743d7a360b795e01f1d5efc81c405bdb6c\n",
            "  Stored in directory: /root/.cache/pip/wheels/ec/64/04/df66e4b3e5afa8fc293c3c5fae0269a55b80f381d833010aeb\n",
            "Successfully built cowsay\n",
            "Installing collected packages: cowsay\n",
            "Successfully installed cowsay-5.0\n",
            "  _____________\n",
            "| Ghostbusters! |\n",
            "  =============\n",
            "                     \\\n",
            "                      \\\n",
            "                       \\\n",
            "                        \\\n",
            "                                    __---__\n",
            "                                 _-       /--______\n",
            "                            __--( /     \\ )XXXXXXXXXXX\\v.\n",
            "                          .-XXX(   O   O  )XXXXXXXXXXXXXXX-\n",
            "                         /XXX(       U     )        XXXXXXX\\\n",
            "                       /XXXXX(              )--_  XXXXXXXXXXX\\\n",
            "                      /XXXXX/ (      O     )   XXXXXX   \\XXXXX\\\n",
            "                      XXXXX/   /            XXXXXX   \\__ \\XXXXX\n",
            "                      XXXXXX__/          XXXXXX         \\__---->\n",
            "              ---___  XXX__/          XXXXXX      \\__         /\n",
            "                \\-  --__/   ___/\\  XXXXXX            /  ___--/=\n",
            "                 \\-\\    ___/    XXXXXX              '--- XXXXXX\n",
            "                    \\-\\/XXX\\ XXXXXX                      /XXXXX\n",
            "                      \\XXXXXXXXX   \\                    /XXXXX/\n",
            "                       \\XXXXXX      >                 _/XXXXX/\n",
            "                         \\XXXXX--__/              __-- XXXX/\n",
            "                          -XXXXXXXX---------------  XXXXXX-\n",
            "                             \\XXXXXXXXXXXXXXXXXXXXXXXXXX/\n",
            "                               \"\"VXXXXXXXXXXXXXXXXXXV\"\"\n"
          ]
        }
      ],
      "source": [
        "!pip install cowsay\n",
        "import cowsay\n",
        "\n",
        "print(cowsay.get_output_string('ghostbusters', 'Ghostbusters!'))\n"
      ]
    },
    {
      "cell_type": "markdown",
      "source": [
        "# Exercise - Faker\n",
        "[Faker](https://pypi.org/project/Faker/) is a Python package that generates fake data for you. Whether you need to bootstrap your database, create good-looking XML documents, fill-in your persistence to stress test it, or anonymize data taken from a production service, Faker is for you.\n",
        "\n",
        "The cell below defines the method `generate_fake_records` that generates fake data and stores the data in a dictionary named `team`."
      ],
      "metadata": {
        "id": "pOdGLNPGl9tK"
      }
    },
    {
      "cell_type": "code",
      "source": [
        "# DO NOT MODIFY THIS CELL\n",
        "\n",
        "!pip install faker\n",
        "import numpy as np\n",
        "from faker import Faker\n",
        "\n",
        "fake = Faker()\n",
        "\n",
        "def generate_fake_records( number_of_records ):\n",
        "  '''\n",
        "  Helper function that generates a fake team member record.\n",
        "\n",
        "  :param number_of_records: Number of records to generate\n",
        "  :type number_of_records: integer\n",
        "  :rtype: list of dictionaries\n",
        "  '''\n",
        "\n",
        "  status_list = ['Full Time', 'Part Time']\n",
        "  team_list = ['Data curator','Data wrangler', 'Data analyst','Project manager']\n",
        "  \n",
        "\n",
        "  data = [{'ID':x+1000,\n",
        "          'Name':fake.name(), \n",
        "          'Hire Date':fake.date_between(start_date='-25y', end_date='today'),\n",
        "          'Status':np.random.choice(status_list, p=[0.50, 0.50]),\n",
        "          'Role':np.random.choice(team_list)} for x in range(number_of_records)]\n",
        "      \n",
        "  return data\n",
        "\n",
        "team = generate_fake_records(number_of_records=25)\n"
      ],
      "metadata": {
        "id": "J_M23E-ul_y4",
        "colab": {
          "base_uri": "https://localhost:8080/"
        },
        "outputId": "2b4789ab-94ea-4c5c-83da-21e3d97a9885"
      },
      "execution_count": 3,
      "outputs": [
        {
          "output_type": "stream",
          "name": "stdout",
          "text": [
            "Looking in indexes: https://pypi.org/simple, https://us-python.pkg.dev/colab-wheels/public/simple/\n",
            "Collecting faker\n",
            "  Downloading Faker-14.2.0-py3-none-any.whl (1.6 MB)\n",
            "\u001b[K     |████████████████████████████████| 1.6 MB 5.5 MB/s \n",
            "\u001b[?25hRequirement already satisfied: typing-extensions>=3.7.4.3 in /usr/local/lib/python3.7/dist-packages (from faker) (4.1.1)\n",
            "Requirement already satisfied: python-dateutil>=2.4 in /usr/local/lib/python3.7/dist-packages (from faker) (2.8.2)\n",
            "Requirement already satisfied: six>=1.5 in /usr/local/lib/python3.7/dist-packages (from python-dateutil>=2.4->faker) (1.15.0)\n",
            "Installing collected packages: faker\n",
            "Successfully installed faker-14.2.0\n"
          ]
        }
      ]
    },
    {
      "cell_type": "markdown",
      "source": [
        "Tabulate pretty-prints tabular data in Python. It is a library and a command-line utility. Install the package [tabulate](https://pypi.org/project/tabulate/) using `pip`.\n",
        "\n",
        "Read the package documentation and write the necessary code to pretty print the dictionary `team` like the example below\n",
        "\n",
        "```\n",
        "|   ID | Name              | Hire Date   | Status    | Role            |\n",
        "|------|-------------------|-------------|-----------|-----------------|\n",
        "| 1000 | Linda Mcintyre    | 2015-05-21  | Part Time | Project manager |\n",
        "| 1001 | John Garner       | 2005-05-28  | Part Time | Data curator    |\n",
        "| 1002 | Sarah Hoover      | 2015-11-28  | Part Time | Data analyst    |\n",
        "| 1003 | Charles Flores    | 2003-11-16  | Part Time | Project manager |\n",
        "| 1004 | Todd Jones        | 2018-09-14  | Full Time | Data curator    |\n",
        "| 1005 | Kara Marks        | 2016-04-27  | Part Time | Data analyst    |\n",
        "| 1006 | Lee Smith         | 2002-02-07  | Part Time | Data analyst    |\n",
        "| 1007 | Douglas Johnson   | 2021-05-10  | Full Time | Data curator    |\n",
        "| 1008 | Jonathan Garcia   | 2015-07-28  | Full Time | Data wrangler   |\n",
        "| 1009 | William Hopkins   | 2009-02-23  | Part Time | Data analyst    |\n",
        "| 1010 | Candace Ellis     | 2005-09-12  | Full Time | Project manager |\n",
        "| 1011 | Edward Andersen   | 2017-01-25  | Full Time | Data wrangler   |\n",
        "| 1012 | Katie Stewart     | 2007-02-18  | Full Time | Data analyst    |\n",
        "| 1013 | Carolyn Mercado   | 2010-02-08  | Part Time | Data curator    |\n",
        "| 1014 | Heather Fowler    | 2014-10-16  | Part Time | Data wrangler   |\n",
        "| 1015 | Louis Miller      | 2015-10-25  | Part Time | Project manager |\n",
        "| 1016 | James Rojas       | 2013-05-19  | Full Time | Data analyst    |\n",
        "| 1017 | Richard Patterson | 2017-04-22  | Full Time | Data curator    |\n",
        "| 1018 | Joshua Ford       | 2013-06-08  | Part Time | Data analyst    |\n",
        "| 1019 | Katherine Warren  | 2005-02-08  | Part Time | Data curator    |\n",
        "| 1020 | Lawrence Reynolds | 2010-12-28  | Part Time | Project manager |\n",
        "| 1021 | Jay Patterson     | 2003-12-29  | Part Time | Data curator    |\n",
        "| 1022 | Mary Zimmerman    | 2019-03-15  | Full Time | Data curator    |\n",
        "| 1023 | Deanna Peterson   | 2016-03-16  | Part Time | Project manager |\n",
        "| 1024 | Shane Ellis       | 2020-03-14  | Full Time | Data analyst    |\n",
        "```"
      ],
      "metadata": {
        "id": "WWQRe-Wjl_63"
      }
    },
    {
      "cell_type": "code",
      "source": [
        "!pip install tabulate\n",
        "from tabulate import tabulate\n",
        "print(tabulate(team, headers=\"keys\",tablefmt=\"orgtbl\"))"
      ],
      "metadata": {
        "id": "FAwdJ_TY4tzu",
        "colab": {
          "base_uri": "https://localhost:8080/"
        },
        "outputId": "5999ba95-a098-443e-e818-dfa4f43874ca"
      },
      "execution_count": 4,
      "outputs": [
        {
          "output_type": "stream",
          "name": "stdout",
          "text": [
            "Looking in indexes: https://pypi.org/simple, https://us-python.pkg.dev/colab-wheels/public/simple/\n",
            "Requirement already satisfied: tabulate in /usr/local/lib/python3.7/dist-packages (0.8.10)\n",
            "|   ID | Name                 | Hire Date   | Status    | Role            |\n",
            "|------+----------------------+-------------+-----------+-----------------|\n",
            "| 1000 | Bethany Brown        | 2010-11-05  | Full Time | Data wrangler   |\n",
            "| 1001 | Julie Contreras      | 2014-02-11  | Full Time | Data analyst    |\n",
            "| 1002 | Walter Lewis         | 2017-04-19  | Full Time | Project manager |\n",
            "| 1003 | Alexander Smith      | 2006-05-04  | Part Time | Data analyst    |\n",
            "| 1004 | Brandy Watkins       | 2018-04-27  | Part Time | Data analyst    |\n",
            "| 1005 | Mrs. Sarah White DVM | 2011-08-21  | Part Time | Data curator    |\n",
            "| 1006 | Jason Garcia         | 2022-03-05  | Part Time | Data curator    |\n",
            "| 1007 | Dennis Munoz         | 2016-02-29  | Full Time | Data wrangler   |\n",
            "| 1008 | Timothy Wilson       | 2014-07-08  | Part Time | Data curator    |\n",
            "| 1009 | Theodore Young       | 2017-09-08  | Part Time | Data wrangler   |\n",
            "| 1010 | Lisa Benitez         | 2010-10-14  | Part Time | Project manager |\n",
            "| 1011 | Kathryn Reed         | 2012-10-09  | Part Time | Data analyst    |\n",
            "| 1012 | Alexandra Parker     | 2021-02-12  | Full Time | Data curator    |\n",
            "| 1013 | Kathleen Murphy      | 2006-03-11  | Part Time | Data wrangler   |\n",
            "| 1014 | Shelly Valentine     | 2000-04-05  | Full Time | Data wrangler   |\n",
            "| 1015 | John Cunningham      | 1997-10-24  | Full Time | Data analyst    |\n",
            "| 1016 | Randy Johnson        | 2020-08-23  | Full Time | Data curator    |\n",
            "| 1017 | Craig Bradley        | 2016-05-28  | Full Time | Data curator    |\n",
            "| 1018 | Charles Scott        | 2001-03-07  | Full Time | Project manager |\n",
            "| 1019 | Kimberly Whitney     | 2001-08-22  | Part Time | Data curator    |\n",
            "| 1020 | Daniel Gordon        | 2007-06-22  | Full Time | Data curator    |\n",
            "| 1021 | Jesus Ruiz           | 2005-09-07  | Part Time | Data curator    |\n",
            "| 1022 | Emily Williams       | 2013-09-22  | Full Time | Data wrangler   |\n",
            "| 1023 | Gregory Moore        | 2001-06-22  | Part Time | Data analyst    |\n",
            "| 1024 | Cristina Clark       | 2004-07-07  | Full Time | Data curator    |\n"
          ]
        }
      ]
    },
    {
      "cell_type": "markdown",
      "source": [
        "# Exercise - Python Standard Library\n",
        "Use the [docstrings](https://realpython.com/documenting-python-code/) and the [assertions](https://realpython.com/python-assert-statement/) in the cell below as a guide to implement the method `get_n_elements`.\n"
      ],
      "metadata": {
        "id": "zluEy8OW4xED"
      }
    },
    {
      "cell_type": "code",
      "source": [
        "# COMPLETE METHOD AND RUN\n",
        "\n",
        "def get_n_elements( list, n):\n",
        "  '''\n",
        "  Helper method that returns the first n elements in a sorted list\n",
        "\n",
        "  :param list: list of integers\n",
        "  :type list: list\n",
        "  :param n: number of elements to return\n",
        "  :type n: integer\n",
        "  :rtype answer: sorted list of n elements\n",
        "  '''\n",
        "  newList = sorted(list)\n",
        "\n",
        "  return newList[0:n]\n",
        "\n",
        "assert get_n_elements([1,2,3,4,5,6,7,8], 3) == [1,2,3]\n",
        "assert get_n_elements([8,7,6,5,4,3,2,1], 3) == [1,2,3]\n",
        "assert get_n_elements([8,7,6,5,4,3,2,1], 5) == [1,2,3,4,5]\n",
        "assert get_n_elements([8,7,6,5,4,3,2,1], 0) == []\n",
        "assert get_n_elements([8,7,6,5,4,3,2,1], -10) == []"
      ],
      "metadata": {
        "id": "M6oRvEfo4t1J"
      },
      "execution_count": 5,
      "outputs": []
    },
    {
      "cell_type": "markdown",
      "source": [
        "## Exercise - Python Standard Library\n",
        "Design an implement a method called `is_palindrome`. \n",
        "\n",
        "* Use only the standard libary.\n",
        "* This method takes an integer and returns True if the number is a [palindrome](https://en.wikipedia.org/wiki/Palindromic_number). False, otherwise.\n",
        "* If the input argument is not an integer, e.g. a string, then the method should return `None`.\n",
        "* Write docstrings for this method.\n",
        "* Write at least 4 assertions to test your method."
      ],
      "metadata": {
        "id": "zBqatJorqEwN"
      }
    },
    {
      "cell_type": "code",
      "source": [
        "\n",
        "def is_palindrome(num):\n",
        "  '''\n",
        "  :param num:given number\n",
        "  :type: int\n",
        "  :answer: True or False \n",
        "  :test whether the number is a palindrome\n",
        "  '''\n",
        "  if isinstance(num,int) != True:\n",
        "    return None\n",
        "  else:\n",
        "    numStr = str(num)\n",
        "    if numStr == numStr[::-1] :\n",
        "      return True\n",
        "    else:\n",
        "       return False\n",
        "\n",
        "\n",
        "assert is_palindrome(51115) == True\n",
        "assert is_palindrome(5) == True\n",
        "assert is_palindrome(1000) == False\n",
        "assert is_palindrome('yes') == None\n",
        "\n"
      ],
      "metadata": {
        "id": "2jr7TEcIqEEZ"
      },
      "execution_count": 28,
      "outputs": []
    },
    {
      "cell_type": "markdown",
      "source": [
        "# Exercise - SIR model\n",
        "The SIR model is a simple mathematical model of epidemics. The entities in this model stand for\n",
        "\n",
        "* (S)usceptible: inviduals that are not infected with the disease yet. However, they are not immune to it either, and so they can become infected with the disease in the future.\n",
        "* (I)nfected or infectious: individuals that are infected with the disease and can transmit the disease to susceptible people.\n",
        "* (R)ecovered: individuals who have recovered from the disease and are immune, so they can no longer be infected.\n",
        "\n",
        "In the most basic form, this model model can be represented as\n",
        "\n",
        "<img src=\"https://wikimedia.org/api/rest_v1/media/math/render/svg/c2a8fd2e93bfcf1092a44cfec7ef32c1a80a26f4\" />\n",
        "\n",
        "where \n",
        "\n",
        "* β is the average number of contacts per person per time\n",
        "* γ is the probability a contagious person becoming non-contagious\n",
        "* N is the population size (constant)\n",
        "\n",
        "Solve the system using the [`odeint`](https://docs.scipy.org/doc/scipy/tutorial/integrate.html) solver from scipy.\n",
        "\n",
        "Use these as your parameters for the solver\n",
        "\n",
        "* `beta = 0.2`\n",
        "* `gamma = 0.07`\n",
        "* `N = 100`\n",
        "* `S0 = 99`\n",
        "* `I = 1`\n",
        "* `R = 0`\n",
        "\n",
        "\n",
        "\n"
      ],
      "metadata": {
        "id": "fDxGQ4CC9uNw"
      }
    },
    {
      "cell_type": "code",
      "source": [
        "import numpy as np\n",
        "from scipy.integrate import odeint\n",
        "\n",
        "def SIR (initial,t,Beta,gamma,N):\n",
        "    S,I,R = initial\n",
        "    dSdt = -(Beta*I*S)/N\n",
        "    dIdt = (Beta*I*S)/N - gamma*I\n",
        "    dRdt = gamma*I\n",
        "  \n",
        "    return dSdt , dIdt, dRdt\n",
        "\n",
        "t = np.linspace(0,200,201)\n",
        "S0= 99\n",
        "I = 1\n",
        "R = 0\n",
        "b = .2\n",
        "g = .07\n",
        "N = 100\n",
        "initial = S0,I,R\n",
        "\n",
        "sol = odeint(SIR,initial,t,args=(b,g,N))"
      ],
      "metadata": {
        "id": "9JGRfnzwV4em"
      },
      "execution_count": 2,
      "outputs": []
    },
    {
      "cell_type": "markdown",
      "source": [
        "## Pretty print results\n",
        "Use [tabulate](https://pypi.org/project/tabulate/) to pretty print the first and the last 50 data points returned by the ODE solver. The table should have 4 columns: (t)ime, S, I and R."
      ],
      "metadata": {
        "id": "Xiw2SXsYV4xL"
      }
    },
    {
      "cell_type": "code",
      "source": [
        "!pip install tabulate\n",
        "from tabulate import tabulate\n",
        "\n",
        "\n",
        "\n",
        "\n",
        "table1 = np.array([t[:50],sol[:50,0],sol[:50,1],sol[:50,2]]).T\n",
        "table2 = np.array([t[151:],sol[151:,0],sol[151:,1],sol[151:,2]]).T\n",
        "\n",
        "table = np.array([t,sol[:,0],sol[:,1],sol[:,2]]).T\n",
        "tablePrint = np.concatenate((table1, table2))\n",
        "\n",
        "\n",
        "\n",
        "\n",
        "\n",
        "print(tabulate(tablePrint,headers=[\"t\",\"S\",\"I\",\"R\"],tablefmt=\"orgtbl\"))\n",
        "\n"
      ],
      "metadata": {
        "id": "wbFTN6yjV731",
        "colab": {
          "base_uri": "https://localhost:8080/"
        },
        "outputId": "974f2f49-a20f-4929-bd5a-a3e6508c3acd"
      },
      "execution_count": 3,
      "outputs": [
        {
          "output_type": "stream",
          "name": "stdout",
          "text": [
            "Looking in indexes: https://pypi.org/simple, https://us-python.pkg.dev/colab-wheels/public/simple/\n",
            "Requirement already satisfied: tabulate in /usr/local/lib/python3.7/dist-packages (0.8.10)\n",
            "|   t |        S |           I |          R |\n",
            "|-----+----------+-------------+------------|\n",
            "|   0 | 99       |  1          |  0         |\n",
            "|   1 | 98.789   |  1.13632    |  0.0746722 |\n",
            "|   2 | 98.5499  |  1.29064    |  0.159504  |\n",
            "|   3 | 98.279   |  1.46517    |  0.255833  |\n",
            "|   4 | 97.9725  |  1.66235    |  0.365156  |\n",
            "|   5 | 97.626   |  1.88483    |  0.489152  |\n",
            "|   6 | 97.2348  |  2.13551    |  0.62969   |\n",
            "|   7 | 96.7936  |  2.41752    |  0.788853  |\n",
            "|   8 | 96.2968  |  2.73421    |  0.968951  |\n",
            "|   9 | 95.7383  |  3.08912    |  1.17253   |\n",
            "|  10 | 95.1116  |  3.48598    |  1.40241   |\n",
            "|  11 | 94.4098  |  3.9286     |  1.66164   |\n",
            "|  12 | 93.6256  |  4.42086    |  1.95357   |\n",
            "|  13 | 92.7516  |  4.96655    |  2.28181   |\n",
            "|  14 | 91.7804  |  5.56933    |  2.65022   |\n",
            "|  15 | 90.7046  |  6.2325     |  3.06292   |\n",
            "|  16 | 89.5169  |  6.95888    |  3.52424   |\n",
            "|  17 | 88.2107  |  7.75057    |  4.03869   |\n",
            "|  18 | 86.7804  |  8.60875    |  4.61088   |\n",
            "|  19 | 85.2211  |  9.53341    |  5.24547   |\n",
            "|  20 | 83.5298  | 10.5231     |  5.94707   |\n",
            "|  21 | 81.705   | 11.5748     |  6.72015   |\n",
            "|  22 | 79.7476  | 12.6836     |  7.56888   |\n",
            "|  23 | 77.6606  | 13.8424     |  8.49702   |\n",
            "|  24 | 75.4499  | 15.0423     |  9.50778   |\n",
            "|  25 | 73.1241  | 16.2722     | 10.6036    |\n",
            "|  26 | 70.6946  | 17.5191     | 11.7863    |\n",
            "|  27 | 68.1752  | 18.7685     | 13.0564    |\n",
            "|  28 | 65.5822  | 20.0043     | 14.4136    |\n",
            "|  29 | 62.9338  | 21.2099     | 15.8563    |\n",
            "|  30 | 60.2496  | 22.3686     | 17.3818    |\n",
            "|  31 | 57.5498  | 23.4638     | 18.9864    |\n",
            "|  32 | 54.855   | 24.4801     | 20.6649    |\n",
            "|  33 | 52.1849  | 25.4037     | 22.4114    |\n",
            "|  34 | 49.5582  | 26.2228     | 24.219     |\n",
            "|  35 | 46.992   | 26.928      | 26.08      |\n",
            "|  36 | 44.5012  | 27.5127     | 27.9861    |\n",
            "|  37 | 42.0984  | 27.9727     | 29.9288    |\n",
            "|  38 | 39.7937  | 28.3069     | 31.8994    |\n",
            "|  39 | 37.5948  | 28.5163     | 33.8889    |\n",
            "|  40 | 35.5068  | 28.6044     | 35.8888    |\n",
            "|  41 | 33.5329  | 28.5763     | 37.8908    |\n",
            "|  42 | 31.6739  | 28.4392     | 39.8869    |\n",
            "|  43 | 29.9293  | 28.2008     | 41.8699    |\n",
            "|  44 | 28.2969  | 27.8702     | 43.8329    |\n",
            "|  45 | 26.7735  | 27.4567     | 45.7698    |\n",
            "|  46 | 25.3549  | 26.9699     | 47.6751    |\n",
            "|  47 | 24.0365  | 26.4194     | 49.5441    |\n",
            "|  48 | 22.813   | 25.8144     | 51.3726    |\n",
            "|  49 | 21.6791  | 25.1639     | 53.1571    |\n",
            "| 151 |  6.96235 |  0.126533   | 92.9111    |\n",
            "| 152 |  6.96063 |  0.119632   | 92.9197    |\n",
            "| 153 |  6.95901 |  0.113108   | 92.9279    |\n",
            "| 154 |  6.95748 |  0.106939   | 92.9356    |\n",
            "| 155 |  6.95603 |  0.101106   | 92.9429    |\n",
            "| 156 |  6.95467 |  0.0955915  | 92.9497    |\n",
            "| 157 |  6.95337 |  0.0903772  | 92.9562    |\n",
            "| 158 |  6.95215 |  0.0854471  | 92.9624    |\n",
            "| 159 |  6.951   |  0.0807858  | 92.9682    |\n",
            "| 160 |  6.9499  |  0.0763785  | 92.9737    |\n",
            "| 161 |  6.94887 |  0.0722116  | 92.9789    |\n",
            "| 162 |  6.9479  |  0.0682718  | 92.9838    |\n",
            "| 163 |  6.94697 |  0.0645469  | 92.9885    |\n",
            "| 164 |  6.9461  |  0.0610251  | 92.9929    |\n",
            "| 165 |  6.94528 |  0.0576953  | 92.997     |\n",
            "| 166 |  6.9445  |  0.0545472  | 93.001     |\n",
            "| 167 |  6.94376 |  0.0515707  | 93.0047    |\n",
            "| 168 |  6.94307 |  0.0487566  | 93.0082    |\n",
            "| 169 |  6.94241 |  0.046096   | 93.0115    |\n",
            "| 170 |  6.94178 |  0.0435806  | 93.0146    |\n",
            "| 171 |  6.9412  |  0.0412023  | 93.0176    |\n",
            "| 172 |  6.94064 |  0.0389538  | 93.0204    |\n",
            "| 173 |  6.94011 |  0.0368279  | 93.0231    |\n",
            "| 174 |  6.93962 |  0.0348181  | 93.0256    |\n",
            "| 175 |  6.93915 |  0.0329179  | 93.0279    |\n",
            "| 176 |  6.9387  |  0.0311213  | 93.0302    |\n",
            "| 177 |  6.93828 |  0.0294228  | 93.0323    |\n",
            "| 178 |  6.93789 |  0.027817   | 93.0343    |\n",
            "| 179 |  6.93751 |  0.0262988  | 93.0362    |\n",
            "| 180 |  6.93716 |  0.0248634  | 93.038     |\n",
            "| 181 |  6.93682 |  0.0235063  | 93.0397    |\n",
            "| 182 |  6.9365  |  0.0222233  | 93.0413    |\n",
            "| 183 |  6.9362  |  0.0210104  | 93.0428    |\n",
            "| 184 |  6.93592 |  0.0198636  | 93.0442    |\n",
            "| 185 |  6.93565 |  0.0187794  | 93.0456    |\n",
            "| 186 |  6.9354  |  0.0177544  | 93.0468    |\n",
            "| 187 |  6.93516 |  0.0167853  | 93.0481    |\n",
            "| 188 |  6.93493 |  0.0158691  | 93.0492    |\n",
            "| 189 |  6.93472 |  0.0150029  | 93.0503    |\n",
            "| 190 |  6.93452 |  0.0141839  | 93.0513    |\n",
            "| 191 |  6.93433 |  0.0134097  | 93.0523    |\n",
            "| 192 |  6.93414 |  0.0126777  | 93.0532    |\n",
            "| 193 |  6.93397 |  0.0119857  | 93.054     |\n",
            "| 194 |  6.93381 |  0.0113315  | 93.0549    |\n",
            "| 195 |  6.93366 |  0.0107129  | 93.0556    |\n",
            "| 196 |  6.93351 |  0.0101281  | 93.0564    |\n",
            "| 197 |  6.93338 |  0.00957528 | 93.057     |\n",
            "| 198 |  6.93325 |  0.0090526  | 93.0577    |\n",
            "| 199 |  6.93313 |  0.00855844 | 93.0583    |\n",
            "| 200 |  6.93301 |  0.00809126 | 93.0589    |\n"
          ]
        }
      ]
    },
    {
      "cell_type": "markdown",
      "source": [
        "## Save variables to disk\n",
        "Use [pickle](https://docs.python.org/3/library/pickle.html) to serialize the variables `S`, `I`, `R` and `t`. Save the pickle file to the course folder in your Google Drive in a file named `sir.pkl`. \n",
        "\n",
        "Hint: for example, store the variables in a dictionary and then dump the dictionary to a pickle file."
      ],
      "metadata": {
        "id": "kshoCNsWV8Zz"
      }
    },
    {
      "cell_type": "code",
      "source": [
        "import pickle\n",
        "from google.colab import drive\n",
        "drive.mount('/content/drive')\n",
        "\n",
        "out = open('/content/drive/My Drive/38610/sir.pkl','wb')\n",
        "pickle.dump(table,out)\n",
        "\n",
        "\n",
        "\n"
      ],
      "metadata": {
        "id": "Fb7_lnNE55UY",
        "colab": {
          "base_uri": "https://localhost:8080/"
        },
        "outputId": "3ed3dc50-7bdf-4320-8326-ab30f05e7b05"
      },
      "execution_count": 6,
      "outputs": [
        {
          "output_type": "stream",
          "name": "stdout",
          "text": [
            "Drive already mounted at /content/drive; to attempt to forcibly remount, call drive.mount(\"/content/drive\", force_remount=True).\n"
          ]
        }
      ]
    },
    {
      "cell_type": "markdown",
      "source": [
        "# Exercise - Matrix multiplication using `numpy`\n",
        "Design an implement a method called `can_be_multiplied`. \n",
        "\n",
        "* Use only the standard libary and `numpy`.\n",
        "* This method takes two Numpy arrays and returns True if these two matrices can be multiplied. False, otherwise.\n",
        "* Work on the assumption that if the input arguments are `a` and `b` (in that order), then the operation `a*b` will be checked by this method and not `b*a`.\n",
        "* If the input argument is not a Numpy array, then the method should return `None`.\n",
        "* Write docstrings for this method.\n",
        "* Write at least 4 assertions to test your method."
      ],
      "metadata": {
        "id": "y4Q5bs-4ujiw"
      }
    },
    {
      "cell_type": "code",
      "source": [
        "def can_be_multiplied(a,b):\n",
        "  if not(isinstance(b,np.ndarray)) or not(isinstance(b,np.ndarray)):\n",
        "    return None\n",
        "  else:\n",
        "    if a.shape[1] == b.shape[0]:\n",
        "      return True\n",
        "    else:\n",
        "      return False\n",
        "\n",
        "\n",
        "a = np.arange(9).reshape(3,3)\n",
        "\n",
        "b = np.arange(12).reshape(3,4)\n",
        "\n",
        "c = np.arange(16).reshape(4,4)\n",
        "\n",
        "x = 'yes'\n",
        "\n",
        "assert can_be_multiplied(a,b) == True\n",
        "assert can_be_multiplied(b,a) == False\n",
        "assert can_be_multiplied(b,c) == True\n",
        "assert can_be_multiplied(a,x) == None\n",
        "\n"
      ],
      "metadata": {
        "id": "aGKEp07vujpy"
      },
      "execution_count": 29,
      "outputs": []
    }
  ]
}